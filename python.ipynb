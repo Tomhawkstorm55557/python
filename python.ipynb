{
  "nbformat": 4,
  "nbformat_minor": 0,
  "metadata": {
    "colab": {
      "provenance": []
    },
    "kernelspec": {
      "name": "python3",
      "display_name": "Python 3"
    },
    "language_info": {
      "name": "python"
    }
  },
  "cells": [
    {
      "cell_type": "code",
      "execution_count": 1,
      "metadata": {
        "colab": {
          "base_uri": "https://localhost:8080/"
        },
        "id": "yk8dhDPlD--r",
        "outputId": "88a29ad3-2c0c-4351-c16d-29de7729c892"
      },
      "outputs": [
        {
          "output_type": "stream",
          "name": "stdout",
          "text": [
            "hello world\n"
          ]
        }
      ],
      "source": [
        "print(\"hello world\")"
      ]
    },
    {
      "cell_type": "code",
      "source": [
        "age =24\n",
        "n = \"vinayak\"\n",
        "print(age)\n",
        "print(n)\n",
        "print(\"name\")\n",
        "print(n,type(n))"
      ],
      "metadata": {
        "colab": {
          "base_uri": "https://localhost:8080/"
        },
        "id": "2STwY22kEKf5",
        "outputId": "7dd50a09-167f-47eb-b9fe-a0665652101f"
      },
      "execution_count": 2,
      "outputs": [
        {
          "output_type": "stream",
          "name": "stdout",
          "text": [
            "24\n",
            "vinayak\n",
            "name\n",
            "vinayak <class 'str'>\n"
          ]
        }
      ]
    },
    {
      "cell_type": "code",
      "source": [
        "age=30\n",
        "n=\"harry\"\n",
        "print(n)\n",
        "print(age)\n",
        "str = \"monkey eats va\"\n",
        "print(str)\n"
      ],
      "metadata": {
        "colab": {
          "base_uri": "https://localhost:8080/"
        },
        "id": "basBcxxaKY4f",
        "outputId": "3d5b67ae-218c-4850-c32b-8aec88b2336c"
      },
      "execution_count": 3,
      "outputs": [
        {
          "output_type": "stream",
          "name": "stdout",
          "text": [
            "harry\n",
            "30\n",
            "monkey eats va\n"
          ]
        }
      ]
    },
    {
      "cell_type": "code",
      "source": [],
      "metadata": {
        "id": "a5YDwS4TKVYF"
      },
      "execution_count": null,
      "outputs": []
    },
    {
      "cell_type": "markdown",
      "source": [
        "Data type in python::::---->>>>\n",
        "Numeric\n",
        "Sequence Type\n",
        "Boolean\n",
        "Set\n",
        "Dictionary\n",
        "Binary Types"
      ],
      "metadata": {
        "id": "_YseeORXFUh5"
      }
    },
    {
      "cell_type": "code",
      "source": [
        "### finding type using type()\n",
        "rate = 4.7\n",
        "print(rate,type(rate))"
      ],
      "metadata": {
        "colab": {
          "base_uri": "https://localhost:8080/"
        },
        "id": "bM3KWA_pFV34",
        "outputId": "979188df-9562-4925-9455-82e6f4734c12"
      },
      "execution_count": 4,
      "outputs": [
        {
          "output_type": "stream",
          "name": "stdout",
          "text": [
            "4.7 <class 'float'>\n"
          ]
        }
      ]
    },
    {
      "cell_type": "markdown",
      "source": [
        "Arthmatic operation\n",
        "+\tAddition\tx + y\n",
        "-\tSubtraction\tx - y\n",
        "*\tMultiplication\tx * y\n",
        "/\tDivision\tx / y\n",
        "%\tModulus\tx % y\n",
        "**\tExponentiation\tx ** y\n",
        "//\tFloor division\tx // y"
      ],
      "metadata": {
        "id": "KZ6If5xoGq73"
      }
    },
    {
      "cell_type": "code",
      "source": [
        "a =2\n",
        "b =67\n",
        "print(a+b)\n",
        "print(a-b)\n",
        "print(a*b)\n",
        "print(a/b)\n",
        "print(a%b)\n"
      ],
      "metadata": {
        "colab": {
          "base_uri": "https://localhost:8080/"
        },
        "id": "7bjK_-GxHKG-",
        "outputId": "3a055394-649b-469f-80b5-f83ccf7b3bef"
      },
      "execution_count": 5,
      "outputs": [
        {
          "output_type": "stream",
          "name": "stdout",
          "text": [
            "69\n",
            "-65\n",
            "134\n",
            "0.029850746268656716\n",
            "2\n"
          ]
        }
      ]
    },
    {
      "cell_type": "code",
      "source": [
        "a = 45\n",
        "b = 54\n",
        "print('a>b',a>b)\n",
        "print('b<a',a<b)\n"
      ],
      "metadata": {
        "id": "KpGFwW7BH-gz",
        "colab": {
          "base_uri": "https://localhost:8080/"
        },
        "outputId": "76cb94e9-f37f-439b-ce39-c3fb18fceadd"
      },
      "execution_count": 7,
      "outputs": [
        {
          "output_type": "stream",
          "name": "stdout",
          "text": [
            "a>b False\n",
            "b<a True\n"
          ]
        }
      ]
    },
    {
      "cell_type": "markdown",
      "source": [
        "not operator--> it will always give ooposite of what u have give for ex if u give 0 it will give 1\n",
        "or opertor--> it will give true if in either of a cases true exist for example\n",
        "if u have given 0 and 1 it will give 1\n",
        "AND operator ---> it will give true only if both are true\n"
      ],
      "metadata": {
        "id": "MctMFyG_lDR7"
      }
    },
    {
      "cell_type": "markdown",
      "source": [
        "![download.png](data:image/png;base64,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)"
      ],
      "metadata": {
        "id": "BPmQEEVbmeeW"
      }
    },
    {
      "cell_type": "code",
      "source": [
        "x = True\n",
        "y = False\n",
        "print(\"x and y  is \", x and y)\n",
        "print(\"x and y  is \", x or y)\n",
        "print(\"x and y  is \", not y)\n"
      ],
      "metadata": {
        "colab": {
          "base_uri": "https://localhost:8080/"
        },
        "id": "WefvcaBhmjdp",
        "outputId": "0ca97471-5fa1-43c1-ed1a-efc306d012e6"
      },
      "execution_count": 12,
      "outputs": [
        {
          "output_type": "stream",
          "name": "stdout",
          "text": [
            "x and y  is  False\n",
            "x and y  is  True\n",
            "x and y  is  True\n"
          ]
        }
      ]
    },
    {
      "cell_type": "code",
      "source": [
        "### input and output\n",
        "name = input();\n",
        "### check data type\n",
        "print(type(name))\n",
        "## output\n",
        "print(name)"
      ],
      "metadata": {
        "colab": {
          "base_uri": "https://localhost:8080/"
        },
        "id": "sh3lBLpVnrIk",
        "outputId": "3fa34dcc-c135-498c-aef1-c5302fea881f"
      },
      "execution_count": 14,
      "outputs": [
        {
          "output_type": "stream",
          "name": "stdout",
          "text": [
            "vinayak\n",
            "<class 'str'>\n",
            "vinayak\n"
          ]
        }
      ]
    },
    {
      "cell_type": "markdown",
      "source": [
        " input() will always give u string!!!\n",
        "to avoid this  we can u type casting just add datatype and u are good to go\n",
        "int(input())"
      ],
      "metadata": {
        "id": "lkP_u-7zoma-"
      }
    },
    {
      "cell_type": "code",
      "source": [
        "a = int(input())\n",
        "b = int(input())\n",
        "c = a*b\n",
        "print(c)\n"
      ],
      "metadata": {
        "colab": {
          "base_uri": "https://localhost:8080/"
        },
        "id": "rNNL24-holHZ",
        "outputId": "f7e8e4d6-dde2-4f20-8dc7-449e1038161e"
      },
      "execution_count": 15,
      "outputs": [
        {
          "output_type": "stream",
          "name": "stdout",
          "text": [
            "3\n",
            "5\n",
            "15\n"
          ]
        }
      ]
    },
    {
      "cell_type": "markdown",
      "source": [
        "#### we re using if here after if( cdtn) : use this"
      ],
      "metadata": {
        "id": "DUg9y9hGrWWo"
      }
    },
    {
      "cell_type": "code",
      "source": [
        "### if\n",
        "age = int(input())\n",
        "if(age==13):\n",
        "    print(\" welcome in you are in your teens\")\n",
        "\n",
        "else:\n",
        "    print(\"you are older or younger\")\n"
      ],
      "metadata": {
        "colab": {
          "base_uri": "https://localhost:8080/"
        },
        "id": "RtRJ0esFqire",
        "outputId": "5b1f1d95-e32e-4a76-b1c0-4bf8c01b569a"
      },
      "execution_count": 19,
      "outputs": [
        {
          "output_type": "stream",
          "name": "stdout",
          "text": [
            "45\n",
            "you are older or younger\n"
          ]
        }
      ]
    },
    {
      "cell_type": "markdown",
      "source": [
        "the previous example is somewhat in complete we are"
      ],
      "metadata": {
        "id": "oiWzouR9rq_l"
      }
    },
    {
      "cell_type": "code",
      "source": [
        "age = int(input())\n",
        "if(age==13):\n",
        "  print(\"welcome to teens\")\n",
        "elif(age>13):\n",
        "  print(\" you are older\")\n",
        "else:\n",
        "  print(\"you are younger champ\")"
      ],
      "metadata": {
        "colab": {
          "base_uri": "https://localhost:8080/"
        },
        "id": "JBlcOgU3rjHl",
        "outputId": "0c195980-0ada-4989-b862-35bfb51d6f8d"
      },
      "execution_count": 20,
      "outputs": [
        {
          "output_type": "stream",
          "name": "stdout",
          "text": [
            "45\n",
            " you are older\n"
          ]
        }
      ]
    },
    {
      "cell_type": "markdown",
      "source": [
        "### range and list\n",
        "The range() function returns a sequence of numbers, starting from 0 by default, and increments by 1 (by default), and stops before a specified number.\n",
        "##### list\n",
        "Lists are used to store multiple items in a single variable.\n",
        "\n",
        "Lists are one of 4 built-in data types in Python used to store collections of data, the other 3 are Tuple, Set, and Dictionary, all with different qualities and usage."
      ],
      "metadata": {
        "id": "8or2BpZpsdmQ"
      }
    },
    {
      "cell_type": "code",
      "source": [
        "#### lets learn more about lists\n",
        "## lets make an list now\n",
        "fruits = [\"banana \", \"apple\", \" xtu \", \" papya\"]\n",
        "print(fruits[0])\n",
        "print(fruits[1])\n",
        "### len function is used to calculate length\n",
        "print(len(fruits))\n",
        "###"
      ],
      "metadata": {
        "colab": {
          "base_uri": "https://localhost:8080/"
        },
        "id": "eIPQS8vztRz_",
        "outputId": "a36e690d-096d-4828-ba63-592cf491ce20"
      },
      "execution_count": 25,
      "outputs": [
        {
          "output_type": "stream",
          "name": "stdout",
          "text": [
            "banana \n",
            "apple\n",
            "4\n"
          ]
        }
      ]
    },
    {
      "cell_type": "code",
      "source": [
        "a = range(10)\n",
        "print(a)\n",
        "# now convert it into a list\n",
        "a = list(a)\n",
        "print(a)"
      ],
      "metadata": {
        "colab": {
          "base_uri": "https://localhost:8080/"
        },
        "id": "EEdoRwbUsrnW",
        "outputId": "85491abd-925b-46ed-d469-9488a670bddf"
      },
      "execution_count": 23,
      "outputs": [
        {
          "output_type": "stream",
          "name": "stdout",
          "text": [
            "range(0, 10)\n",
            "[0, 1, 2, 3, 4, 5, 6, 7, 8, 9]\n"
          ]
        }
      ]
    },
    {
      "cell_type": "code",
      "source": [
        "### for loop\n",
        "for i in range(10):\n",
        "  print(2*i)"
      ],
      "metadata": {
        "colab": {
          "base_uri": "https://localhost:8080/"
        },
        "id": "IVL-6aaysOmS",
        "outputId": "26517d3e-f8f9-4233-baa4-d56405f5bdeb"
      },
      "execution_count": 27,
      "outputs": [
        {
          "output_type": "stream",
          "name": "stdout",
          "text": [
            "0\n",
            "2\n",
            "4\n",
            "6\n",
            "8\n",
            "10\n",
            "12\n",
            "14\n",
            "16\n",
            "18\n"
          ]
        }
      ]
    },
    {
      "cell_type": "code",
      "source": [
        "### runing for loop in list\n",
        "### u can use any variable in plaace of t\n",
        "a = ['xbf','huu','bhjj']\n",
        "for t in a:\n",
        "  print(t*4)"
      ],
      "metadata": {
        "colab": {
          "base_uri": "https://localhost:8080/"
        },
        "id": "xPCgR2K808xF",
        "outputId": "fff7a1db-5533-4857-927c-744b51c1f64b"
      },
      "execution_count": 29,
      "outputs": [
        {
          "output_type": "stream",
          "name": "stdout",
          "text": [
            "xbfxbfxbfxbf\n",
            "huuhuuhuuhuu\n",
            "bhjjbhjjbhjjbhjj\n"
          ]
        }
      ]
    },
    {
      "cell_type": "code",
      "source": [
        "### lets learn while\n",
        "n =5\n",
        "while(n>=0):\n",
        "  print(n)\n",
        "  n-=1"
      ],
      "metadata": {
        "colab": {
          "base_uri": "https://localhost:8080/"
        },
        "id": "RSK5zxqg1gh1",
        "outputId": "ce3503f5-c5e4-427c-c6e9-3d3015bc4072"
      },
      "execution_count": 30,
      "outputs": [
        {
          "output_type": "stream",
          "name": "stdout",
          "text": [
            "5\n",
            "4\n",
            "3\n",
            "2\n",
            "1\n",
            "0\n"
          ]
        }
      ]
    },
    {
      "cell_type": "code",
      "source": [
        "### break and countinue\n",
        "n = 6\n",
        "for i in range(10):\n",
        "  if(i==6):\n",
        "    break;\n",
        "  print(i)\n"
      ],
      "metadata": {
        "colab": {
          "base_uri": "https://localhost:8080/"
        },
        "id": "2hn_LsAm14a0",
        "outputId": "22046b7d-bbc6-4c49-d599-a4d79196e20b"
      },
      "execution_count": 32,
      "outputs": [
        {
          "output_type": "stream",
          "name": "stdout",
          "text": [
            "0\n",
            "1\n",
            "2\n",
            "3\n",
            "4\n",
            "5\n"
          ]
        }
      ]
    },
    {
      "cell_type": "code",
      "source": [
        "# it skips the digit\n",
        "n = 6\n",
        "for i in range(10):\n",
        "  if(i==6):\n",
        "    continue;\n",
        "  print(i)"
      ],
      "metadata": {
        "colab": {
          "base_uri": "https://localhost:8080/"
        },
        "id": "MsdvmB8S2YKE",
        "outputId": "87b6e404-f89b-47e7-9d47-bdda4fd37310"
      },
      "execution_count": 33,
      "outputs": [
        {
          "output_type": "stream",
          "name": "stdout",
          "text": [
            "0\n",
            "1\n",
            "2\n",
            "3\n",
            "4\n",
            "5\n",
            "7\n",
            "8\n",
            "9\n"
          ]
        }
      ]
    },
    {
      "cell_type": "code",
      "source": [
        "# slicing\n",
        "s = \"vinayak\"\n",
        "print(s[1:3])\n",
        "## cont\n",
        "t = \"sharma\"\n",
        "print(s+t)\n",
        "## runing for loop\n",
        "for t_char in s:\n",
        "  print(t_char)"
      ],
      "metadata": {
        "colab": {
          "base_uri": "https://localhost:8080/"
        },
        "id": "fO8QNw4k2p03",
        "outputId": "957567e6-9572-4a62-cfc5-33c86cb633e9"
      },
      "execution_count": 3,
      "outputs": [
        {
          "output_type": "stream",
          "name": "stdout",
          "text": [
            "in\n",
            "vinayaksharma\n",
            "v\n",
            "i\n",
            "n\n",
            "a\n",
            "y\n",
            "a\n",
            "k\n"
          ]
        }
      ]
    },
    {
      "cell_type": "code",
      "source": [
        "### is alpha is used to check alphabate\n",
        "s = \"billo\"\n",
        "print(s.isalpha())\n",
        "t = \"billo123\"\n",
        "print(t.isalpha())\n",
        "print(s.isdigit())\n",
        "print(s.islower())\n",
        "# these two were used to make upper or lower\n",
        "print(s.upper())\n",
        "print(s.lower())\n",
        "\n"
      ],
      "metadata": {
        "colab": {
          "base_uri": "https://localhost:8080/"
        },
        "id": "RMl1Wzb1Kg73",
        "outputId": "2e45846c-8ddd-456e-b322-fb6346015124"
      },
      "execution_count": 9,
      "outputs": [
        {
          "output_type": "stream",
          "name": "stdout",
          "text": [
            "True\n",
            "False\n",
            "False\n",
            "True\n",
            "BILLO\n",
            "billo\n"
          ]
        }
      ]
    },
    {
      "cell_type": "code",
      "source": [
        "### yah pa type define nhi karta hai\n",
        "name = \" vinayak\"\n",
        "name = 1234\n",
        "print(name)"
      ],
      "metadata": {
        "colab": {
          "base_uri": "https://localhost:8080/"
        },
        "id": "Xu9VT51BLrtq",
        "outputId": "f8bbee4b-e3c8-4667-c3f0-c0adc350ba51"
      },
      "execution_count": 10,
      "outputs": [
        {
          "output_type": "stream",
          "name": "stdout",
          "text": [
            "1234\n"
          ]
        }
      ]
    },
    {
      "cell_type": "code",
      "source": [
        "my = ['vinayak ',1234]\n",
        "print(my)"
      ],
      "metadata": {
        "colab": {
          "base_uri": "https://localhost:8080/"
        },
        "id": "NCB7WEx5K_rE",
        "outputId": "6fcc68a4-a76a-420b-ff54-f02a22d382e4"
      },
      "execution_count": 11,
      "outputs": [
        {
          "output_type": "stream",
          "name": "stdout",
          "text": [
            "['vinayak ', 1234]\n"
          ]
        }
      ]
    },
    {
      "cell_type": "code",
      "source": [
        "# creating list\n",
        "a = [x for x in range(10)]\n",
        "print(a)\n",
        "a = [x for x in range(10) if x%2==0]\n",
        "print(a)\n"
      ],
      "metadata": {
        "colab": {
          "base_uri": "https://localhost:8080/"
        },
        "id": "qbgU4gMcKMtH",
        "outputId": "f8d49412-28b2-4dc5-f433-d2236a9c92c9"
      },
      "execution_count": 15,
      "outputs": [
        {
          "output_type": "stream",
          "name": "stdout",
          "text": [
            "[0, 1, 2, 3, 4, 5, 6, 7, 8, 9]\n",
            "[0, 2, 4, 6, 8]\n"
          ]
        }
      ]
    },
    {
      "cell_type": "code",
      "source": [
        "# using append the elemnt apppears in last\n",
        "b = [x for x in range(10)]\n",
        "b.append(4)\n",
        "print(b)\n",
        "# insert position , value\n",
        "b.insert(1,56);\n",
        "print(b)\n",
        "# sort\n",
        "b.sort()\n",
        "print(b)\n",
        "\n",
        "#pop\n",
        "b.pop(1)\n",
        "print(b)\n",
        "# reverse\n",
        "b.reverse()\n",
        "print(b)\n",
        "#findind index\n",
        "print(b.index(3))\n",
        "#clear\n",
        "b.clear()\n",
        "print(b)"
      ],
      "metadata": {
        "colab": {
          "base_uri": "https://localhost:8080/"
        },
        "id": "sdtcjgOSTHTz",
        "outputId": "d1f7c317-face-419d-b930-9cb881de414e"
      },
      "execution_count": 26,
      "outputs": [
        {
          "output_type": "stream",
          "name": "stdout",
          "text": [
            "[0, 1, 2, 3, 4, 5, 6, 7, 8, 9, 4]\n",
            "[0, 56, 1, 2, 3, 4, 5, 6, 7, 8, 9, 4]\n",
            "[0, 1, 2, 3, 4, 4, 5, 6, 7, 8, 9, 56]\n",
            "[0, 2, 3, 4, 4, 5, 6, 7, 8, 9, 56]\n",
            "[56, 9, 8, 7, 6, 5, 4, 4, 3, 2, 0]\n",
            "8\n",
            "[]\n"
          ]
        }
      ]
    },
    {
      "cell_type": "code",
      "source": [
        "### more list function\n",
        "b = [1,2,3,4,5]\n",
        "# calculate the length\n",
        "print(len(b))\n",
        "## calculate the max\n",
        "print(max(b))\n",
        "# calculate min\n",
        "print(min(b))\n",
        "#sum\n",
        "print(sum(b))\n",
        "\n"
      ],
      "metadata": {
        "colab": {
          "base_uri": "https://localhost:8080/"
        },
        "id": "15gafSbEUuPy",
        "outputId": "f71c19c8-321c-4076-e49e-2688a990b43d"
      },
      "execution_count": 32,
      "outputs": [
        {
          "output_type": "stream",
          "name": "stdout",
          "text": [
            "5\n",
            "5\n",
            "1\n",
            "15\n"
          ]
        }
      ]
    },
    {
      "cell_type": "markdown",
      "source": [
        "tupes in pythons ------>>>> Tuples are used to store multiple items in a single variable. Tuple is one of 4 built-in data types in Python used to store collections of data, the other 3 are List, Set, and Dictionary, all with different qualities and usage. A tuple is a collection which is ordered and unchangeable."
      ],
      "metadata": {
        "id": "ZXRywcmDVvbX"
      }
    },
    {
      "cell_type": "code",
      "source": [
        "### lets see this\n",
        "a = [1,2 ,3 ,3]\n",
        "a[0] = \" anuj\"\n",
        "print(a)\n",
        "### this is list thats why it got changed\n",
        "a = (1,2,3,4)\n",
        "a[0] = \" anuj\"\n",
        "\n",
        "# it will give eroor\n",
        "# tuple opperations are same like list but u cant change the assigned thing  len max min\n"
      ],
      "metadata": {
        "colab": {
          "base_uri": "https://localhost:8080/",
          "height": 227
        },
        "id": "C8aA3KxbTxsr",
        "outputId": "e3948ff5-bbd9-4413-e40f-a51b0ec88d87"
      },
      "execution_count": 34,
      "outputs": [
        {
          "output_type": "stream",
          "name": "stdout",
          "text": [
            "[' anuj', 2, 3, 3]\n"
          ]
        },
        {
          "output_type": "error",
          "ename": "TypeError",
          "evalue": "ignored",
          "traceback": [
            "\u001b[0;31m---------------------------------------------------------------------------\u001b[0m",
            "\u001b[0;31mTypeError\u001b[0m                                 Traceback (most recent call last)",
            "\u001b[0;32m<ipython-input-34-9fb32a3747af>\u001b[0m in \u001b[0;36m<cell line: 7>\u001b[0;34m()\u001b[0m\n\u001b[1;32m      5\u001b[0m \u001b[0;31m### this is list thats why it got changed\u001b[0m\u001b[0;34m\u001b[0m\u001b[0;34m\u001b[0m\u001b[0m\n\u001b[1;32m      6\u001b[0m \u001b[0ma\u001b[0m \u001b[0;34m=\u001b[0m \u001b[0;34m(\u001b[0m\u001b[0;36m1\u001b[0m\u001b[0;34m,\u001b[0m\u001b[0;36m2\u001b[0m\u001b[0;34m,\u001b[0m\u001b[0;36m3\u001b[0m\u001b[0;34m,\u001b[0m\u001b[0;36m4\u001b[0m\u001b[0;34m)\u001b[0m\u001b[0;34m\u001b[0m\u001b[0;34m\u001b[0m\u001b[0m\n\u001b[0;32m----> 7\u001b[0;31m \u001b[0ma\u001b[0m\u001b[0;34m[\u001b[0m\u001b[0;36m0\u001b[0m\u001b[0;34m]\u001b[0m \u001b[0;34m=\u001b[0m \u001b[0;34m\" anuj\"\u001b[0m\u001b[0;34m\u001b[0m\u001b[0;34m\u001b[0m\u001b[0m\n\u001b[0m",
            "\u001b[0;31mTypeError\u001b[0m: 'tuple' object does not support item assignment"
          ]
        }
      ]
    },
    {
      "cell_type": "markdown",
      "source": [
        "Dictionary --->>> What is a dictionary on Python?\n",
        "In Python, dictionaries are mutable data structures that allow you to store key-value pairs. Dictionary can be created using the dict() constructor or curly braces' {}'. Once you have created a dictionary, you can add, remove, or update elements using the methods dict. update(), dict"
      ],
      "metadata": {
        "id": "Q557b09dWzSY"
      }
    },
    {
      "cell_type": "code",
      "source": [
        "# it didnt store duplicate value\n",
        "a = { 1,2 ,3,4,1,2,}\n",
        "print(a)\n"
      ],
      "metadata": {
        "colab": {
          "base_uri": "https://localhost:8080/",
          "height": 227
        },
        "id": "y-mEOl-oWrCE",
        "outputId": "952cbf5b-b73e-4e90-f345-2abb15d6b7c7"
      },
      "execution_count": 38,
      "outputs": [
        {
          "output_type": "stream",
          "name": "stdout",
          "text": [
            "{1, 2, 3, 4}\n"
          ]
        },
        {
          "output_type": "error",
          "ename": "NameError",
          "evalue": "ignored",
          "traceback": [
            "\u001b[0;31m---------------------------------------------------------------------------\u001b[0m",
            "\u001b[0;31mNameError\u001b[0m                                 Traceback (most recent call last)",
            "\u001b[0;32m<ipython-input-38-dd6a799742e1>\u001b[0m in \u001b[0;36m<cell line: 6>\u001b[0;34m()\u001b[0m\n\u001b[1;32m      4\u001b[0m \u001b[0;31m# lets create one\u001b[0m\u001b[0;34m\u001b[0m\u001b[0;34m\u001b[0m\u001b[0m\n\u001b[1;32m      5\u001b[0m \u001b[0mmarks\u001b[0m \u001b[0;34m=\u001b[0m\u001b[0;34m{\u001b[0m\u001b[0;34m'arjun'\u001b[0m\u001b[0;34m:\u001b[0m\u001b[0;36m45\u001b[0m\u001b[0;34m,\u001b[0m\u001b[0;34m'mayank'\u001b[0m\u001b[0;34m:\u001b[0m\u001b[0;36m34\u001b[0m\u001b[0;34m,\u001b[0m\u001b[0;34m'jai'\u001b[0m\u001b[0;34m:\u001b[0m\u001b[0;36m56\u001b[0m\u001b[0;34m}\u001b[0m\u001b[0;34m\u001b[0m\u001b[0;34m\u001b[0m\u001b[0m\n\u001b[0;32m----> 6\u001b[0;31m \u001b[0mprint\u001b[0m\u001b[0;34m(\u001b[0m\u001b[0mmarks\u001b[0m\u001b[0;34m[\u001b[0m\u001b[0marjun\u001b[0m\u001b[0;34m]\u001b[0m\u001b[0;34m)\u001b[0m\u001b[0;34m\u001b[0m\u001b[0;34m\u001b[0m\u001b[0m\n\u001b[0m",
            "\u001b[0;31mNameError\u001b[0m: name 'arjun' is not defined"
          ]
        }
      ]
    },
    {
      "cell_type": "code",
      "source": [
        "# lets create one\n",
        "mrks = {'arjun':56,'billo':67,45:67}\n",
        "print(mrks['billo'])\n",
        "print(mrks[45])\n",
        "for i in mrks:\n",
        "  print(i,mrks[i])\n",
        "mrks['arjun'] = 100\n",
        "print(mrks)\n"
      ],
      "metadata": {
        "colab": {
          "base_uri": "https://localhost:8080/"
        },
        "id": "leVVBMy6YJTF",
        "outputId": "2ed026bd-b56e-4f85-d3cb-ed24552d33c9"
      },
      "execution_count": 46,
      "outputs": [
        {
          "output_type": "stream",
          "name": "stdout",
          "text": [
            "67\n",
            "67\n",
            "arjun 56\n",
            "billo 67\n",
            "45 67\n",
            "{'arjun': 100, 'billo': 67, 45: 67}\n"
          ]
        }
      ]
    },
    {
      "cell_type": "code",
      "source": [
        "# functions in python\n",
        "# modeule\n",
        "import math\n",
        "dir(math)"
      ],
      "metadata": {
        "colab": {
          "base_uri": "https://localhost:8080/"
        },
        "id": "TrXaENv9Wavo",
        "outputId": "061a1ada-0a7a-4356-8426-92543c740aa4"
      },
      "execution_count": 47,
      "outputs": [
        {
          "output_type": "execute_result",
          "data": {
            "text/plain": [
              "['__doc__',\n",
              " '__loader__',\n",
              " '__name__',\n",
              " '__package__',\n",
              " '__spec__',\n",
              " 'acos',\n",
              " 'acosh',\n",
              " 'asin',\n",
              " 'asinh',\n",
              " 'atan',\n",
              " 'atan2',\n",
              " 'atanh',\n",
              " 'ceil',\n",
              " 'comb',\n",
              " 'copysign',\n",
              " 'cos',\n",
              " 'cosh',\n",
              " 'degrees',\n",
              " 'dist',\n",
              " 'e',\n",
              " 'erf',\n",
              " 'erfc',\n",
              " 'exp',\n",
              " 'expm1',\n",
              " 'fabs',\n",
              " 'factorial',\n",
              " 'floor',\n",
              " 'fmod',\n",
              " 'frexp',\n",
              " 'fsum',\n",
              " 'gamma',\n",
              " 'gcd',\n",
              " 'hypot',\n",
              " 'inf',\n",
              " 'isclose',\n",
              " 'isfinite',\n",
              " 'isinf',\n",
              " 'isnan',\n",
              " 'isqrt',\n",
              " 'lcm',\n",
              " 'ldexp',\n",
              " 'lgamma',\n",
              " 'log',\n",
              " 'log10',\n",
              " 'log1p',\n",
              " 'log2',\n",
              " 'modf',\n",
              " 'nan',\n",
              " 'nextafter',\n",
              " 'perm',\n",
              " 'pi',\n",
              " 'pow',\n",
              " 'prod',\n",
              " 'radians',\n",
              " 'remainder',\n",
              " 'sin',\n",
              " 'sinh',\n",
              " 'sqrt',\n",
              " 'tan',\n",
              " 'tanh',\n",
              " 'tau',\n",
              " 'trunc',\n",
              " 'ulp']"
            ]
          },
          "metadata": {},
          "execution_count": 47
        }
      ]
    },
    {
      "cell_type": "code",
      "source": [
        "### function for avg\n",
        "a = int(input())\n",
        "b = int(input())\n",
        "print(avg(a,b))\n",
        "def avg(a,b):\n",
        "  return (a+b)/2\n"
      ],
      "metadata": {
        "colab": {
          "base_uri": "https://localhost:8080/"
        },
        "id": "dK5Lm6wyTYAE",
        "outputId": "b1141f56-4286-484d-b956-7a4ef8c16c7b"
      },
      "execution_count": 53,
      "outputs": [
        {
          "output_type": "stream",
          "name": "stdout",
          "text": [
            "6\n",
            "8\n",
            "7.0\n"
          ]
        }
      ]
    },
    {
      "cell_type": "code",
      "source": [
        "#### one more example\n",
        "def gth(name, dish ):\n",
        "  print(\"good morning \",name)\n",
        "  print(\"time to eat \",dish )\n",
        "gth(\"vinayak\",\"momo\")\n",
        "\n"
      ],
      "metadata": {
        "colab": {
          "base_uri": "https://localhost:8080/"
        },
        "id": "XlF6AXPPZ3vj",
        "outputId": "64b47460-a2f5-4b59-b542-4553c189c464"
      },
      "execution_count": 57,
      "outputs": [
        {
          "output_type": "stream",
          "name": "stdout",
          "text": [
            "good morning  vinayak\n",
            "time to eat  momo\n"
          ]
        }
      ]
    }
  ]
}